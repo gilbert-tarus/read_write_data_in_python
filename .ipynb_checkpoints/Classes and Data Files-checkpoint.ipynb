{
 "cells": [
  {
   "cell_type": "markdown",
   "id": "b5830757",
   "metadata": {},
   "source": [
    "### Classes"
   ]
  },
  {
   "cell_type": "code",
   "execution_count": 42,
   "id": "3c592773",
   "metadata": {},
   "outputs": [],
   "source": [
    "class Patient():\n",
    "    def __init__(self, last_name, first_name, age):\n",
    "        self.last_name = last_name\n",
    "        self.first_name = first_name\n",
    "        self.age = age\n",
    "    def say_if_minor(self):\n",
    "        if self.age < 21:\n",
    "            print(self.first_name, self.last_name, \"is a minor (\",self.age,\")\")\n",
    "        else:\n",
    "            print(self.first_name, self.last_name, \"is not a minor (\"+str(self.age)+\")\")"
   ]
  },
  {
   "cell_type": "code",
   "execution_count": 43,
   "id": "a62fc31a",
   "metadata": {},
   "outputs": [],
   "source": [
    "pid4343 = Patient(\"Taleb\", \"Sue\", 61)\n",
    "pid4344 = Patient(\"Anand\", \"Punya\", 29)\n",
    "pid4345 = Patient(\"Oppenheimer\", \"Douglas\", 15)\n",
    "pid4346 = Patient(\"Lin\", \"Lilly\", 48)\n",
    "pid12902 = Patient(\"Nilsson\", \"Rhonda\", 33)"
   ]
  },
  {
   "cell_type": "code",
   "execution_count": 44,
   "id": "cfdb4fab",
   "metadata": {},
   "outputs": [
    {
     "name": "stdout",
     "output_type": "stream",
     "text": [
      "Rhonda Nilsson is not a minor (33)\n"
     ]
    }
   ],
   "source": [
    "pid12902.say_if_minor()"
   ]
  },
  {
   "cell_type": "markdown",
   "id": "f2878133",
   "metadata": {},
   "source": [
    "### Data Files"
   ]
  },
  {
   "cell_type": "code",
   "execution_count": 29,
   "id": "6ef4393e",
   "metadata": {},
   "outputs": [],
   "source": [
    "with open(\"other\\whatever.txt\",\"w\") as my_file:\n",
    "    my_file.write(\"This is a test content.\")"
   ]
  },
  {
   "cell_type": "code",
   "execution_count": 39,
   "id": "52ac2014",
   "metadata": {},
   "outputs": [
    {
     "name": "stdout",
     "output_type": "stream",
     "text": [
      "['V', 'i', 'd', 'e', 'o', ' ', 'p', 'r', 'o', 'v', 'i', 'd', 'e', 's', ' ', 'a', ' ', 'p', 'o', 'w', 'e', 'r', 'f', 'u', 'l', ' ', 'w', 'a', 'y', ' ', 't', 'o', ' ', 'h', 'e', 'l', 'p', ' ', 'y', 'o', 'u', ' ', 'p', 'r', 'o', 'v', 'e', ' ', 'y', 'o', 'u', 'r', ' ', 'p', 'o', 'i', 'n', 't', '.', ' ', 'W', 'h', 'e', 'n', ' ', 'y', 'o', 'u', ' ', 'c', 'l', 'i', 'c', 'k', ' ', 'O', 'n', 'l', 'i', 'n', 'e', ' ', 'V', 'i', 'd', 'e', 'o', ',', ' ', 'y', 'o', 'u', ' ', 'c', 'a', 'n', ' ', 'p', 'a', 's', 't', 'e', ' ', 'i', 'n', ' ', 't', 'h', 'e', ' ', 'e', 'm', 'b', 'e', 'd', ' ', 'c', 'o', 'd', 'e', ' ', 'f', 'o', 'r', ' ', 't', 'h', 'e', ' ', 'v', 'i', 'd', 'e', 'o', ' ', 'y', 'o', 'u', ' ', 'w', 'a', 'n', 't', ' ', 't', 'o', ' ', 'a', 'd', 'd', '.', ' ', 'Y', 'o', 'u', ' ', 'c', 'a', 'n', ' ', 'a', 'l', 's', 'o', ' ', 't', 'y', 'p', 'e', ' ', 'a', ' ', 'k', 'e', 'y', 'w', 'o', 'r', 'd', ' ', 't', 'o', ' ', 's', 'e', 'a', 'r', 'c', 'h', ' ', 'o', 'n', 'l', 'i', 'n', 'e', ' ', 'f', 'o', 'r', ' ', 't', 'h', 'e', ' ', 'v', 'i', 'd', 'e', 'o', ' ', 't', 'h', 'a', 't', ' ', 'b', 'e', 's', 't', ' ', 'f', 'i', 't', 's', ' ', 'y', 'o', 'u', 'r', ' ', 'd', 'o', 'c', 'u', 'm', 'e', 'n', 't', '.', ' ', 'T', 'o', ' ', 'm', 'a', 'k', 'e', ' ', 'y', 'o', 'u', 'r', ' ', 'd', 'o', 'c', 'u', 'm', 'e', 'n', 't', ' ', 'l', 'o', 'o', 'k', ' ', 'p', 'r', 'o', 'f', 'e', 's', 's', 'i', 'o', 'n', 'a', 'l', 'l', 'y', ' ', 'p', 'r', 'o', 'd', 'u', 'c', 'e', 'd', ',', ' ', 'W', 'o', 'r', 'd', ' ', 'p', 'r', 'o', 'v', 'i', 'd', 'e', 's', ' ', 'h', 'e', 'a', 'd', 'e', 'r', ',', ' ', 'f', 'o', 'o', 't', 'e', 'r', ',', ' ', 'c', 'o', 'v', 'e', 'r', ' ', 'p', 'a', 'g', 'e', ',', ' ', 'a', 'n', 'd', ' ', 't', 'e', 'x', 't', ' ', 'b', 'o', 'x', ' ', 'd', 'e', 's', 'i', 'g', 'n', 's', ' ', 't', 'h', 'a', 't', ' ', 'c', 'o', 'm', 'p', 'l', 'e', 'm', 'e', 'n', 't', ' ', 'e', 'a', 'c', 'h', ' ', 'o', 't', 'h', 'e', 'r', '.', '\\n', 'F', 'o', 'r', ' ', 'e', 'x', 'a', 'm', 'p', 'l', 'e', ',', ' ', 'y', 'o', 'u', ' ', 'c', 'a', 'n', ' ', 'a', 'd', 'd', ' ', 'a', ' ', 'm', 'a', 't', 'c', 'h', 'i', 'n', 'g', ' ', 'c', 'o', 'v', 'e', 'r', ' ', 'p', 'a', 'g', 'e', ',', ' ', 'h', 'e', 'a', 'd', 'e', 'r', ',', ' ', 'a', 'n', 'd', ' ', 's', 'i', 'd', 'e', 'b', 'a', 'r', '.', ' ', 'C', 'l', 'i', 'c', 'k', ' ', 'I', 'n', 's', 'e', 'r', 't', ' ', 'a', 'n', 'd', ' ', 't', 'h', 'e', 'n', ' ', 'c', 'h', 'o', 'o', 's', 'e', ' ', 't', 'h', 'e', ' ', 'e', 'l', 'e', 'm', 'e', 'n', 't', 's', ' ', 'y', 'o', 'u', ' ', 'w', 'a', 'n', 't', ' ', 'f', 'r', 'o', 'm', ' ', 't', 'h', 'e', ' ', 'd', 'i', 'f', 'f', 'e', 'r', 'e', 'n', 't', ' ', 'g', 'a', 'l', 'l', 'e', 'r', 'i', 'e', 's', '.', ' ', 'T', 'h', 'e', 'm', 'e', 's', ' ', 'a', 'n', 'd', ' ', 's', 't', 'y', 'l', 'e', 's', ' ', 'a', 'l', 's', 'o', ' ', 'h', 'e', 'l', 'p', ' ', 'k', 'e', 'e', 'p', ' ', 'y', 'o', 'u', 'r', ' ', 'd', 'o', 'c', 'u', 'm', 'e', 'n', 't', ' ', 'c', 'o', 'o', 'r', 'd', 'i', 'n', 'a', 't', 'e', 'd', '.', ' ', 'W', 'h', 'e', 'n', ' ', 'y', 'o', 'u', ' ', 'c', 'l', 'i', 'c', 'k', ' ', 'D', 'e', 's', 'i', 'g', 'n', ' ', 'a', 'n', 'd', ' ', 'c', 'h', 'o', 'o', 's', 'e', ' ', 'a', ' ', 'n', 'e', 'w', ' ', 'T', 'h', 'e', 'm', 'e', ',', ' ', 't', 'h', 'e', ' ', 'p', 'i', 'c', 't', 'u', 'r', 'e', 's', ',', ' ', 'c', 'h', 'a', 'r', 't', 's', ',', ' ', 'a', 'n', 'd', ' ', 'S', 'm', 'a', 'r', 't', 'A', 'r', 't', ' ', 'g', 'r', 'a', 'p', 'h', 'i', 'c', 's', ' ', 'c', 'h', 'a', 'n', 'g', 'e', ' ', 't', 'o', ' ', 'm', 'a', 't', 'c', 'h', ' ', 'y', 'o', 'u', 'r', ' ', 'n', 'e', 'w', ' ', 't', 'h', 'e', 'm', 'e', '.', '\\n', 'W', 'h', 'e', 'n', ' ', 'y', 'o', 'u', ' ', 'a', 'p', 'p', 'l', 'y', ' ', 's', 't', 'y', 'l', 'e', 's', ',', ' ', 'y', 'o', 'u', 'r', ' ', 'h', 'e', 'a', 'd', 'i', 'n', 'g', 's', ' ', 'c', 'h', 'a', 'n', 'g', 'e', ' ', 't', 'o', ' ', 'm', 'a', 't', 'c', 'h', ' ', 't', 'h', 'e', ' ', 'n', 'e', 'w', ' ', 't', 'h', 'e', 'm', 'e', '.', ' ', 'S', 'a', 'v', 'e', ' ', 't', 'i', 'm', 'e', ' ', 'i', 'n', ' ', 'W', 'o', 'r', 'd', ' ', 'w', 'i', 't', 'h', ' ', 'n', 'e', 'w', ' ', 'b', 'u', 't', 't', 'o', 'n', 's', ' ', 't', 'h', 'a', 't', ' ', 's', 'h', 'o', 'w', ' ', 'u', 'p', ' ', 'w', 'h', 'e', 'r', 'e', ' ', 'y', 'o', 'u', ' ', 'n', 'e', 'e', 'd', ' ', 't', 'h', 'e', 'm', '.', ' ', 'T', 'o', ' ', 'c', 'h', 'a', 'n', 'g', 'e', ' ', 't', 'h', 'e', ' ', 'w', 'a', 'y', ' ', 'a', ' ', 'p', 'i', 'c', 't', 'u', 'r', 'e', ' ', 'f', 'i', 't', 's', ' ', 'i', 'n', ' ', 'y', 'o', 'u', 'r', ' ', 'd', 'o', 'c', 'u', 'm', 'e', 'n', 't', ',', ' ', 'c', 'l', 'i', 'c', 'k', ' ', 'i', 't', ' ', 'a', 'n', 'd', ' ', 'a', ' ', 'b', 'u', 't', 't', 'o', 'n', ' ', 'f', 'o', 'r', ' ', 'l', 'a', 'y', 'o', 'u', 't', ' ', 'o', 'p', 't', 'i', 'o', 'n', 's', ' ', 'a', 'p', 'p', 'e', 'a', 'r', 's', ' ', 'n', 'e', 'x', 't', ' ', 't', 'o', ' ', 'i', 't', '.', ' ', 'W', 'h', 'e', 'n', ' ', 'y', 'o', 'u', ' ', 'w', 'o', 'r', 'k', ' ', 'o', 'n', ' ', 'a', ' ', 't', 'a', 'b', 'l', 'e', ',', ' ', 'c', 'l', 'i', 'c', 'k', ' ', 'w', 'h', 'e', 'r', 'e', ' ', 'y', 'o', 'u', ' ', 'w', 'a', 'n', 't', ' ', 't', 'o', ' ', 'a', 'd', 'd', ' ', 'a', ' ', 'r', 'o', 'w', ' ', 'o', 'r', ' ', 'a', ' ', 'c', 'o', 'l', 'u', 'm', 'n', ',', ' ', 'a', 'n', 'd', ' ', 't', 'h', 'e', 'n', ' ', 'c', 'l', 'i', 'c', 'k', ' ', 't', 'h', 'e', ' ', 'p', 'l', 'u', 's', ' ', 's', 'i', 'g', 'n', '.', '\\n', 'R', 'e', 'a', 'd', 'i', 'n', 'g', ' ', 'i', 's', ' ', 'e', 'a', 's', 'i', 'e', 'r', ',', ' ', 't', 'o', 'o', ',', ' ', 'i', 'n', ' ', 't', 'h', 'e', ' ', 'n', 'e', 'w', ' ', 'R', 'e', 'a', 'd', 'i', 'n', 'g', ' ', 'v', 'i', 'e', 'w', '.', ' ', 'Y', 'o', 'u', ' ', 'c', 'a', 'n', ' ', 'c', 'o', 'l', 'l', 'a', 'p', 's', 'e', ' ', 'p', 'a', 'r', 't', 's', ' ', 'o', 'f', ' ', 't', 'h', 'e', ' ', 'd', 'o', 'c', 'u', 'm', 'e', 'n', 't', ' ', 'a', 'n', 'd', ' ', 'f', 'o', 'c', 'u', 's', ' ', 'o', 'n', ' ', 't', 'h', 'e', ' ', 't', 'e', 'x', 't', ' ', 'y', 'o', 'u', ' ', 'w', 'a', 'n', 't', '.', ' ', 'I', 'f', ' ', 'y', 'o', 'u', ' ', 'n', 'e', 'e', 'd', ' ', 't', 'o', ' ', 's', 't', 'o', 'p', ' ', 'r', 'e', 'a', 'd', 'i', 'n', 'g', ' ', 'b', 'e', 'f', 'o', 'r', 'e', ' ', 'y', 'o', 'u', ' ', 'r', 'e', 'a', 'c', 'h', ' ', 't', 'h', 'e', ' ', 'e', 'n', 'd', ',', ' ', 'W', 'o', 'r', 'd', ' ', 'r', 'e', 'm', 'e', 'm', 'b', 'e', 'r', 's', ' ', 'w', 'h', 'e', 'r', 'e', ' ', 'y', 'o', 'u', ' ', 'l', 'e', 'f', 't', ' ', 'o', 'f', 'f', ' ', '-', ' ', 'e', 'v', 'e', 'n', ' ', 'o', 'n', ' ', 'a', 'n', 'o', 't', 'h', 'e', 'r', ' ', 'd', 'e', 'v', 'i', 'c', 'e', '.', ' ', 'V', 'i', 'd', 'e', 'o', ' ', 'p', 'r', 'o', 'v', 'i', 'd', 'e', 's', ' ', 'a', ' ', 'p', 'o', 'w', 'e', 'r', 'f', 'u', 'l', ' ', 'w', 'a', 'y', ' ', 't', 'o', ' ', 'h', 'e', 'l', 'p', ' ', 'y', 'o', 'u', ' ', 'p', 'r', 'o', 'v', 'e', ' ', 'y', 'o', 'u', 'r', ' ', 'p', 'o', 'i', 'n', 't', '.', '\\n', 'W', 'h', 'e', 'n', ' ', 'y', 'o', 'u', ' ', 'c', 'l', 'i', 'c', 'k', ' ', 'O', 'n', 'l', 'i', 'n', 'e', ' ', 'V', 'i', 'd', 'e', 'o', ',', ' ', 'y', 'o', 'u', ' ', 'c', 'a', 'n', ' ', 'p', 'a', 's', 't', 'e', ' ', 'i', 'n', ' ', 't', 'h', 'e', ' ', 'e', 'm', 'b', 'e', 'd', ' ', 'c', 'o', 'd', 'e', ' ', 'f', 'o', 'r', ' ', 't', 'h', 'e', ' ', 'v', 'i', 'd', 'e', 'o', ' ', 'y', 'o', 'u', ' ', 'w', 'a', 'n', 't', ' ', 't', 'o', ' ', 'a', 'd', 'd', '.', ' ', 'Y', 'o', 'u', ' ', 'c', 'a', 'n', ' ', 'a', 'l', 's', 'o', ' ', 't', 'y', 'p', 'e', ' ', 'a', ' ', 'k', 'e', 'y', 'w', 'o', 'r', 'd', ' ', 't', 'o', ' ', 's', 'e', 'a', 'r', 'c', 'h', ' ', 'o', 'n', 'l', 'i', 'n', 'e', ' ', 'f', 'o', 'r', ' ', 't', 'h', 'e', ' ', 'v', 'i', 'd', 'e', 'o', ' ', 't', 'h', 'a', 't', ' ', 'b', 'e', 's', 't', ' ', 'f', 'i', 't', 's', ' ', 'y', 'o', 'u', 'r', ' ', 'd', 'o', 'c', 'u', 'm', 'e', 'n', 't', '.', ' ', 'T', 'o', ' ', 'm', 'a', 'k', 'e', ' ', 'y', 'o', 'u', 'r', ' ', 'd', 'o', 'c', 'u', 'm', 'e', 'n', 't', ' ', 'l', 'o', 'o', 'k', ' ', 'p', 'r', 'o', 'f', 'e', 's', 's', 'i', 'o', 'n', 'a', 'l', 'l', 'y', ' ', 'p', 'r', 'o', 'd', 'u', 'c', 'e', 'd', ',', ' ', 'W', 'o', 'r', 'd', ' ', 'p', 'r', 'o', 'v', 'i', 'd', 'e', 's', ' ', 'h', 'e', 'a', 'd', 'e', 'r', ',', ' ', 'f', 'o', 'o', 't', 'e', 'r', ',', ' ', 'c', 'o', 'v', 'e', 'r', ' ', 'p', 'a', 'g', 'e', ',', ' ', 'a', 'n', 'd', ' ', 't', 'e', 'x', 't', ' ', 'b', 'o', 'x', ' ', 'd', 'e', 's', 'i', 'g', 'n', 's', ' ', 't', 'h', 'a', 't', ' ', 'c', 'o', 'm', 'p', 'l', 'e', 'm', 'e', 'n', 't', ' ', 'e', 'a', 'c', 'h', ' ', 'o', 't', 'h', 'e', 'r', '.', ' ', 'F', 'o', 'r', ' ', 'e', 'x', 'a', 'm', 'p', 'l', 'e', ',', ' ', 'y', 'o', 'u', ' ', 'c', 'a', 'n', ' ', 'a', 'd', 'd', ' ', 'a', ' ', 'm', 'a', 't', 'c', 'h', 'i', 'n', 'g', ' ', 'c', 'o', 'v', 'e', 'r', ' ', 'p', 'a', 'g', 'e', ',', ' ', 'h', 'e', 'a', 'd', 'e', 'r', ',', ' ', 'a', 'n', 'd', ' ', 's', 'i', 'd', 'e', 'b', 'a', 'r', '.', '\\n', 'C', 'l', 'i', 'c', 'k', ' ', 'I', 'n', 's', 'e', 'r', 't', ' ', 'a', 'n', 'd', ' ', 't', 'h', 'e', 'n', ' ', 'c', 'h', 'o', 'o', 's', 'e', ' ', 't', 'h', 'e', ' ', 'e', 'l', 'e', 'm', 'e', 'n', 't', 's', ' ', 'y', 'o', 'u', ' ', 'w', 'a', 'n', 't', ' ', 'f', 'r', 'o', 'm', ' ', 't', 'h', 'e', ' ', 'd', 'i', 'f', 'f', 'e', 'r', 'e', 'n', 't', ' ', 'g', 'a', 'l', 'l', 'e', 'r', 'i', 'e', 's', '.', ' ', 'T', 'h', 'e', 'm', 'e', 's', ' ', 'a', 'n', 'd', ' ', 's', 't', 'y', 'l', 'e', 's', ' ', 'a', 'l', 's', 'o', ' ', 'h', 'e', 'l', 'p', ' ', 'k', 'e', 'e', 'p', ' ', 'y', 'o', 'u', 'r', ' ', 'd', 'o', 'c', 'u', 'm', 'e', 'n', 't', ' ', 'c', 'o', 'o', 'r', 'd', 'i', 'n', 'a', 't', 'e', 'd', '.', ' ', 'W', 'h', 'e', 'n', ' ', 'y', 'o', 'u', ' ', 'c', 'l', 'i', 'c', 'k', ' ', 'D', 'e', 's', 'i', 'g', 'n', ' ', 'a', 'n', 'd', ' ', 'c', 'h', 'o', 'o', 's', 'e', ' ', 'a', ' ', 'n', 'e', 'w', ' ', 'T', 'h', 'e', 'm', 'e', ',', ' ', 't', 'h', 'e', ' ', 'p', 'i', 'c', 't', 'u', 'r', 'e', 's', ',', ' ', 'c', 'h', 'a', 'r', 't', 's', ',', ' ', 'a', 'n', 'd', ' ', 'S', 'm', 'a', 'r', 't', 'A', 'r', 't', ' ', 'g', 'r', 'a', 'p', 'h', 'i', 'c', 's', ' ', 'c', 'h', 'a', 'n', 'g', 'e', ' ', 't', 'o', ' ', 'm', 'a', 't', 'c', 'h', ' ', 'y', 'o', 'u', 'r', ' ', 'n', 'e', 'w', ' ', 't', 'h', 'e', 'm', 'e', '.', ' ', 'W', 'h', 'e', 'n', ' ', 'y', 'o', 'u', ' ', 'a', 'p', 'p', 'l', 'y', ' ', 's', 't', 'y', 'l', 'e', 's', ',', ' ', 'y', 'o', 'u', 'r', ' ', 'h', 'e', 'a', 'd', 'i', 'n', 'g', 's', ' ', 'c', 'h', 'a', 'n', 'g', 'e', ' ', 't', 'o', ' ', 'm', 'a', 't', 'c', 'h', ' ', 't', 'h', 'e', ' ', 'n', 'e', 'w', ' ', 't', 'h', 'e', 'm', 'e', '.', '\\n', 'S', 'a', 'v', 'e', ' ', 't', 'i', 'm', 'e', ' ', 'i', 'n', ' ', 'W', 'o', 'r', 'd', ' ', 'w', 'i', 't', 'h', ' ', 'n', 'e', 'w', ' ', 'b', 'u', 't', 't', 'o', 'n', 's', ' ', 't', 'h', 'a', 't', ' ', 's', 'h', 'o', 'w', ' ', 'u', 'p', ' ', 'w', 'h', 'e', 'r', 'e', ' ', 'y', 'o', 'u', ' ', 'n', 'e', 'e', 'd', ' ', 't', 'h', 'e', 'm', '.', ' ', 'T', 'o', ' ', 'c', 'h', 'a', 'n', 'g', 'e', ' ', 't', 'h', 'e', ' ', 'w', 'a', 'y', ' ', 'a', ' ', 'p', 'i', 'c', 't', 'u', 'r', 'e', ' ', 'f', 'i', 't', 's', ' ', 'i', 'n', ' ', 'y', 'o', 'u', 'r', ' ', 'd', 'o', 'c', 'u', 'm', 'e', 'n', 't', ',', ' ', 'c', 'l', 'i', 'c', 'k', ' ', 'i', 't', ' ', 'a', 'n', 'd', ' ', 'a', ' ', 'b', 'u', 't', 't', 'o', 'n', ' ', 'f', 'o', 'r', ' ', 'l', 'a', 'y', 'o', 'u', 't', ' ', 'o', 'p', 't', 'i', 'o', 'n', 's', ' ', 'a', 'p', 'p', 'e', 'a', 'r', 's', ' ', 'n', 'e', 'x', 't', ' ', 't', 'o', ' ', 'i', 't', '.', ' ', 'W', 'h', 'e', 'n', ' ', 'y', 'o', 'u', ' ', 'w', 'o', 'r', 'k', ' ', 'o', 'n', ' ', 'a', ' ', 't', 'a', 'b', 'l', 'e', ',', ' ', 'c', 'l', 'i', 'c', 'k', ' ', 'w', 'h', 'e', 'r', 'e', ' ', 'y', 'o', 'u', ' ', 'w', 'a', 'n', 't', ' ', 't', 'o', ' ', 'a', 'd', 'd', ' ', 'a', ' ', 'r', 'o', 'w', ' ', 'o', 'r', ' ', 'a', ' ', 'c', 'o', 'l', 'u', 'm', 'n', ',', ' ', 'a', 'n', 'd', ' ', 't', 'h', 'e', 'n', ' ', 'c', 'l', 'i', 'c', 'k', ' ', 't', 'h', 'e', ' ', 'p', 'l', 'u', 's', ' ', 's', 'i', 'g', 'n', '.', ' ', 'R', 'e', 'a', 'd', 'i', 'n', 'g', ' ', 'i', 's', ' ', 'e', 'a', 's', 'i', 'e', 'r', ',', ' ', 't', 'o', 'o', ',', ' ', 'i', 'n', ' ', 't', 'h', 'e', ' ', 'n', 'e', 'w', ' ', 'R', 'e', 'a', 'd', 'i', 'n', 'g', ' ', 'v', 'i', 'e', 'w', '.', '\\n', 'Y', 'o', 'u', ' ', 'c', 'a', 'n', ' ', 'c', 'o', 'l', 'l', 'a', 'p', 's', 'e', ' ', 'p', 'a', 'r', 't', 's', ' ', 'o', 'f', ' ', 't', 'h', 'e', ' ', 'd', 'o', 'c', 'u', 'm', 'e', 'n', 't', ' ', 'a', 'n', 'd', ' ', 'f', 'o', 'c', 'u', 's', ' ', 'o', 'n', ' ', 't', 'h', 'e', ' ', 't', 'e', 'x', 't', ' ', 'y', 'o', 'u', ' ', 'w', 'a', 'n', 't', '.', ' ', 'I', 'f', ' ', 'y', 'o', 'u', ' ', 'n', 'e', 'e', 'd', ' ', 't', 'o', ' ', 's', 't', 'o', 'p', ' ', 'r', 'e', 'a', 'd', 'i', 'n', 'g', ' ', 'b', 'e', 'f', 'o', 'r', 'e', ' ', 'y', 'o', 'u', ' ', 'r', 'e', 'a', 'c', 'h', ' ', 't', 'h', 'e', ' ', 'e', 'n', 'd', ',', ' ', 'W', 'o', 'r', 'd', ' ', 'r', 'e', 'm', 'e', 'm', 'b', 'e', 'r', 's', ' ', 'w', 'h', 'e', 'r', 'e', ' ', 'y', 'o', 'u', ' ', 'l', 'e', 'f', 't', ' ', 'o', 'f', 'f', ' ', '-', ' ', 'e', 'v', 'e', 'n', ' ', 'o', 'n', ' ', 'a', 'n', 'o', 't', 'h', 'e', 'r', ' ', 'd', 'e', 'v', 'i', 'c', 'e', '.', ' ', 'V', 'i', 'd', 'e', 'o', ' ', 'p', 'r', 'o', 'v', 'i', 'd', 'e', 's', ' ', 'a', ' ', 'p', 'o', 'w', 'e', 'r', 'f', 'u', 'l', ' ', 'w', 'a', 'y', ' ', 't', 'o', ' ', 'h', 'e', 'l', 'p', ' ', 'y', 'o', 'u', ' ', 'p', 'r', 'o', 'v', 'e', ' ', 'y', 'o', 'u', 'r', ' ', 'p', 'o', 'i', 'n', 't', '.', ' ', 'W', 'h', 'e', 'n', ' ', 'y', 'o', 'u', ' ', 'c', 'l', 'i', 'c', 'k', ' ', 'O', 'n', 'l', 'i', 'n', 'e', ' ', 'V', 'i', 'd', 'e', 'o', ',', ' ', 'y', 'o', 'u', ' ', 'c', 'a', 'n', ' ', 'p', 'a', 's', 't', 'e', ' ', 'i', 'n', ' ', 't', 'h', 'e', ' ', 'e', 'm', 'b', 'e', 'd', ' ', 'c', 'o', 'd', 'e', ' ', 'f', 'o', 'r', ' ', 't', 'h', 'e', ' ', 'v', 'i', 'd', 'e', 'o', ' ', 'y', 'o', 'u', ' ', 'w', 'a', 'n', 't', ' ', 't', 'o', ' ', 'a', 'd', 'd', '.', '\\n', 'Y', 'o', 'u', ' ', 'c', 'a', 'n', ' ', 'a', 'l', 's', 'o', ' ', 't', 'y', 'p', 'e', ' ', 'a', ' ', 'k', 'e', 'y', 'w', 'o', 'r', 'd', ' ', 't', 'o', ' ', 's', 'e', 'a', 'r', 'c', 'h', ' ', 'o', 'n', 'l', 'i', 'n', 'e', ' ', 'f', 'o', 'r', ' ', 't', 'h', 'e', ' ', 'v', 'i', 'd', 'e', 'o', ' ', 't', 'h', 'a', 't', ' ', 'b', 'e', 's', 't', ' ', 'f', 'i', 't', 's', ' ', 'y', 'o', 'u', 'r', ' ', 'd', 'o', 'c', 'u', 'm', 'e', 'n', 't', '.', ' ', 'T', 'o', ' ', 'm', 'a', 'k', 'e', ' ', 'y', 'o', 'u', 'r', ' ', 'd', 'o', 'c', 'u', 'm', 'e', 'n', 't', ' ', 'l', 'o', 'o', 'k', ' ', 'p', 'r', 'o', 'f', 'e', 's', 's', 'i', 'o', 'n', 'a', 'l', 'l', 'y', ' ', 'p', 'r', 'o', 'd', 'u', 'c', 'e', 'd', ',', ' ', 'W', 'o', 'r', 'd', ' ', 'p', 'r', 'o', 'v', 'i', 'd', 'e', 's', ' ', 'h', 'e', 'a', 'd', 'e', 'r', ',', ' ', 'f', 'o', 'o', 't', 'e', 'r', ',', ' ', 'c', 'o', 'v', 'e', 'r', ' ', 'p', 'a', 'g', 'e', ',', ' ', 'a', 'n', 'd', ' ', 't', 'e', 'x', 't', ' ', 'b', 'o', 'x', ' ', 'd', 'e', 's', 'i', 'g', 'n', 's', ' ', 't', 'h', 'a', 't', ' ', 'c', 'o', 'm', 'p', 'l', 'e', 'm', 'e', 'n', 't', ' ', 'e', 'a', 'c', 'h', ' ', 'o', 't', 'h', 'e', 'r', '.', ' ', 'F', 'o', 'r', ' ', 'e', 'x', 'a', 'm', 'p', 'l', 'e', ',', ' ', 'y', 'o', 'u', ' ', 'c', 'a', 'n', ' ', 'a', 'd', 'd', ' ', 'a', ' ', 'm', 'a', 't', 'c', 'h', 'i', 'n', 'g', ' ', 'c', 'o', 'v', 'e', 'r', ' ', 'p', 'a', 'g', 'e', ',', ' ', 'h', 'e', 'a', 'd', 'e', 'r', ',', ' ', 'a', 'n', 'd', ' ', 's', 'i', 'd', 'e', 'b', 'a', 'r', '.', ' ', 'C', 'l', 'i', 'c', 'k', ' ', 'I', 'n', 's', 'e', 'r', 't', ' ', 'a', 'n', 'd', ' ', 't', 'h', 'e', 'n', ' ', 'c', 'h', 'o', 'o', 's', 'e', ' ', 't', 'h', 'e', ' ', 'e', 'l', 'e', 'm', 'e', 'n', 't', 's', ' ', 'y', 'o', 'u', ' ', 'w', 'a', 'n', 't', ' ', 'f', 'r', 'o', 'm', ' ', 't', 'h', 'e', ' ', 'd', 'i', 'f', 'f', 'e', 'r', 'e', 'n', 't', ' ', 'g', 'a', 'l', 'l', 'e', 'r', 'i', 'e', 's', '.', '\\n', 'T', 'h', 'e', 'm', 'e', 's', ' ', 'a', 'n', 'd', ' ', 's', 't', 'y', 'l', 'e', 's', ' ', 'a', 'l', 's', 'o', ' ', 'h', 'e', 'l', 'p', ' ', 'k', 'e', 'e', 'p', ' ', 'y', 'o', 'u', 'r', ' ', 'd', 'o', 'c', 'u', 'm', 'e', 'n', 't', ' ', 'c', 'o', 'o', 'r', 'd', 'i', 'n', 'a', 't', 'e', 'd', '.', ' ', 'W', 'h', 'e', 'n', ' ', 'y', 'o', 'u', ' ', 'c', 'l', 'i', 'c', 'k', ' ', 'D', 'e', 's', 'i', 'g', 'n', ' ', 'a', 'n', 'd', ' ', 'c', 'h', 'o', 'o', 's', 'e', ' ', 'a', ' ', 'n', 'e', 'w', ' ', 'T', 'h', 'e', 'm', 'e', ',', ' ', 't', 'h', 'e', ' ', 'p', 'i', 'c', 't', 'u', 'r', 'e', 's', ',', ' ', 'c', 'h', 'a', 'r', 't', 's', ',', ' ', 'a', 'n', 'd', ' ', 'S', 'm', 'a', 'r', 't', 'A', 'r', 't', ' ', 'g', 'r', 'a', 'p', 'h', 'i', 'c', 's', ' ', 'c', 'h', 'a', 'n', 'g', 'e', ' ', 't', 'o', ' ', 'm', 'a', 't', 'c', 'h', ' ', 'y', 'o', 'u', 'r', ' ', 'n', 'e', 'w', ' ', 't', 'h', 'e', 'm', 'e', '.', '\\n']\n"
     ]
    }
   ],
   "source": [
    "with open(\"other/text.txt\",\"r\") as file:\n",
    "    contents =  file.read()\n",
    "    words = []\n",
    "    for word in contents:\n",
    "        words += word\n",
    "print(words)"
   ]
  },
  {
   "cell_type": "code",
   "execution_count": 31,
   "id": "10031ee1",
   "metadata": {},
   "outputs": [],
   "source": [
    "with open(\"other/whatever.txt\", \"a\") as my_file:\n",
    "    my_file.write(\"\\n This is another test Content.\")"
   ]
  },
  {
   "cell_type": "code",
   "execution_count": 32,
   "id": "a093db80",
   "metadata": {},
   "outputs": [],
   "source": [
    "with open(\"other/whatever.txt\", \"a\") as my_file:\n",
    "    my_file.write(\"\\n This is another third test Content.\")"
   ]
  },
  {
   "cell_type": "code",
   "execution_count": 33,
   "id": "fa13d059",
   "metadata": {},
   "outputs": [],
   "source": [
    "with open(\"other/whatever.txt\", \"a\") as my_file:\n",
    "    my_file.write(\"\\n This is a fourth test Content.\")"
   ]
  },
  {
   "cell_type": "markdown",
   "id": "4aba08d2",
   "metadata": {},
   "source": [
    "### CSV Files"
   ]
  },
  {
   "cell_type": "code",
   "execution_count": 42,
   "id": "a47aa9fe",
   "metadata": {},
   "outputs": [
    {
     "name": "stdout",
     "output_type": "stream",
     "text": [
      "['Year', 'Event', 'Winner', '1995', 'Best-Kept Lawn', 'None', '1999', 'Gobstones', 'Welch National', '2006', 'World Cup', 'Burkina Faso']\n"
     ]
    }
   ],
   "source": [
    "import csv\n",
    "with open(\"other/competitions.csv\") as data:\n",
    "    contents = csv.reader(data)\n",
    "    potter_competitions = []\n",
    "    for line in contents:\n",
    "        potter_competitions+=line\n",
    "print(potter_competitions)\n",
    "\n",
    "with open(\"other/whatever.csv\", \"a\", newline=\"\") as f:\n",
    "    data_handler = csv.writer(f, delimiter=\",\")\n",
    "    data_handler.writerow([\"2006\", \"World Cup\",\"Burkina Faso\"])\n",
    "    data_handler.writerow([\"2011\", \"Butter Cup\",\"France\"])\n",
    "    data_handler.writerow([\"2012\", \"Coffee Cup\",\"Brazil\"])\n"
   ]
  },
  {
   "cell_type": "code",
   "execution_count": 102,
   "id": "fb24551d",
   "metadata": {},
   "outputs": [
    {
     "name": "stdout",
     "output_type": "stream",
     "text": [
      "Welcome to the Registration Page \n",
      "================================\n",
      "Enter Your First Name: Alice\n",
      "Enter Your larst Name: Kiplagat\n",
      "Enter Your Phone Number: 0701622072\n",
      "Saving your data...\n",
      "Data saved successfully!\n"
     ]
    }
   ],
   "source": [
    "## Python program to read and write user data.\n",
    "import json\n",
    "print(\"Welcome to the Registration Page\",\"\\n\"+\"=\"*32)\n",
    "fname = input(\"Enter Your First Name: \")\n",
    "lname = input(\"Enter Your larst Name: \")\n",
    "phone = input(\"Enter Your Phone Number: \")\n",
    "user = {\"First Name\":fname, \"Last Name\":lname, \"Phone Number\": phone}\n",
    "\n",
    "print(\"Saving your data...\")\n",
    "\n",
    "print(\"Data saved successfully!\")\n",
    "with open(str(\"users/user_\"+fname.lower()+\".json\"), \"w\") as usr:\n",
    "    json.dump(user, usr)"
   ]
  },
  {
   "cell_type": "code",
   "execution_count": 105,
   "id": "b6032700",
   "metadata": {},
   "outputs": [
    {
     "name": "stdout",
     "output_type": "stream",
     "text": [
      "Enter your first name to search you infomation: Paul\n",
      "Paul's details do not exist.\n"
     ]
    }
   ],
   "source": [
    "try:\n",
    "    search_name = input(\"Enter your first name to search you infomation: \")\n",
    "    with open(str(\"users/user_\"+search_name.lower()+\".json\")) as usr:\n",
    "        user_info = json.load(usr)\n",
    "        for key, value in user_info.items():\n",
    "            print(key+\":\", value)\n",
    "except FileNotFoundError:\n",
    "    print(search_name+\"'s\",\"details do not exist.\")"
   ]
  },
  {
   "cell_type": "code",
   "execution_count": null,
   "id": "db169cf7",
   "metadata": {},
   "outputs": [],
   "source": []
  }
 ],
 "metadata": {
  "kernelspec": {
   "display_name": "Python 3",
   "language": "python",
   "name": "python3"
  },
  "language_info": {
   "codemirror_mode": {
    "name": "ipython",
    "version": 3
   },
   "file_extension": ".py",
   "mimetype": "text/x-python",
   "name": "python",
   "nbconvert_exporter": "python",
   "pygments_lexer": "ipython3",
   "version": "3.8.8"
  }
 },
 "nbformat": 4,
 "nbformat_minor": 5
}
