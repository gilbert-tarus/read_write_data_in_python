{
 "cells": [
  {
   "cell_type": "code",
   "execution_count": 5,
   "id": "4651f737",
   "metadata": {},
   "outputs": [
    {
     "ename": "SyntaxError",
     "evalue": "invalid syntax (<ipython-input-5-9155e23d2b82>, line 4)",
     "output_type": "error",
     "traceback": [
      "\u001b[1;36m  File \u001b[1;32m\"<ipython-input-5-9155e23d2b82>\"\u001b[1;36m, line \u001b[1;32m4\u001b[0m\n\u001b[1;33m    for a_first_name in first_names and for a_last_name in last_names:\u001b[0m\n\u001b[1;37m                                        ^\u001b[0m\n\u001b[1;31mSyntaxError\u001b[0m\u001b[1;31m:\u001b[0m invalid syntax\n"
     ]
    }
   ],
   "source": [
    "first_names = [\"BlueRay \", \"Upchuck \", \"Lojack \", \"Gizmo \", \"Do-Rag \"]\n",
    "last_names = [\"Zzz\", \"Burp\", \"Dogbone\", \"Droop\"]\n",
    "full_names = []\n",
    "\n",
    "for a_first_name in first_names:\n",
    "    for a_last_name in last_names:\n",
    "        full_names.append(a_first_name + \" \" + a_last_name)"
   ]
  },
  {
   "cell_type": "code",
   "execution_count": 16,
   "id": "eb4e4f60",
   "metadata": {},
   "outputs": [
    {
     "name": "stdout",
     "output_type": "stream",
     "text": [
      "['Blueray  Zzz', 'Upchuck  Burp', 'Lojack  Dogbone', 'Gizmo  Droop', 'Do-Rag  Test']\n"
     ]
    }
   ],
   "source": [
    "first_names = [\"BlueRay \", \"Upchuck \", \"Lojack \", \"Gizmo \", \"Do-Rag \"]\n",
    "last_names = [\"Zzz\", \"Burp\", \"Dogbone\", \"Droop\",\"test\"]\n",
    "\n",
    "full_names2 = []\n",
    "if len(first_names) == len(last_names):\n",
    "    for i in range(0, len(first_names)):\n",
    "        full_names2.append(first_names[i].title() + \" \" + last_names[i].title())\n",
    "    print(full_names2)\n",
    "else:\n",
    "    print(\"List of first names is different from the list of last names\")"
   ]
  },
  {
   "cell_type": "code",
   "execution_count": 44,
   "id": "72b0399b",
   "metadata": {
    "scrolled": true
   },
   "outputs": [
    {
     "name": "stdout",
     "output_type": "stream",
     "text": [
      "The Attributes Of The Dictionary Are\n",
      "==================================== \n",
      "\n",
      "dict1_key_1\n",
      "dict1_key_2\n",
      "dict1_key_3\n",
      "dict1_key_4\n",
      "dict1_key_5\n",
      "dict1_key_6\n",
      "dict1_key_7\n",
      "dict1_key_8\n",
      "dict1_key_9\n",
      "dict1_key_10\n"
     ]
    }
   ],
   "source": [
    "print((\"The attributes of the dictionary are\").title())\n",
    "print(\"=\"*len(\"The attributes of the dictionary are\"),\"\\n\")\n",
    "for key in my_dict.keys():\n",
    "    print(key)"
   ]
  },
  {
   "cell_type": "code",
   "execution_count": 51,
   "id": "7fe478d9",
   "metadata": {},
   "outputs": [
    {
     "data": {
      "text/plain": [
       "{'cust_1': 'fname_1',\n",
       " 'cust_2': 'fname_2',\n",
       " 'cust_3': 'fname_3',\n",
       " 'cust_4': 'fname_4',\n",
       " 'cust_5': 'fname_5',\n",
       " 'cust_6': 'fname_6',\n",
       " 'cust_7': 'fname_7',\n",
       " 'cust_8': 'fname_8',\n",
       " 'cust_9': 'fname_9',\n",
       " 'cust_10': 'fname_10'}"
      ]
     },
     "execution_count": 51,
     "metadata": {},
     "output_type": "execute_result"
    }
   ],
   "source": [
    "fnames= {}\n",
    "lnames = {}\n",
    "emails = {}\n",
    "for i in range(1,11):\n",
    "    fnames[str(\"cust_\"+str(i))] = str(\"fname_\"+str(i))\n",
    "    lnames[str(\"cust_\"+str(i))] = str(\"lname_\"+str(i))\n",
    "    emails[str(\"cust_\"+str(i))] = str(\"email_\"+str(i))\n",
    "fnames"
   ]
  },
  {
   "cell_type": "code",
   "execution_count": 52,
   "id": "b4a89716",
   "metadata": {},
   "outputs": [
    {
     "data": {
      "text/plain": [
       "{'cust_1': 'lname_1',\n",
       " 'cust_2': 'lname_2',\n",
       " 'cust_3': 'lname_3',\n",
       " 'cust_4': 'lname_4',\n",
       " 'cust_5': 'lname_5',\n",
       " 'cust_6': 'lname_6',\n",
       " 'cust_7': 'lname_7',\n",
       " 'cust_8': 'lname_8',\n",
       " 'cust_9': 'lname_9',\n",
       " 'cust_10': 'lname_10'}"
      ]
     },
     "execution_count": 52,
     "metadata": {},
     "output_type": "execute_result"
    }
   ],
   "source": [
    "lnames"
   ]
  },
  {
   "cell_type": "code",
   "execution_count": 53,
   "id": "d6fda69b",
   "metadata": {},
   "outputs": [
    {
     "data": {
      "text/plain": [
       "{'cust_1': 'email_1',\n",
       " 'cust_2': 'email_2',\n",
       " 'cust_3': 'email_3',\n",
       " 'cust_4': 'email_4',\n",
       " 'cust_5': 'email_5',\n",
       " 'cust_6': 'email_6',\n",
       " 'cust_7': 'email_7',\n",
       " 'cust_8': 'email_8',\n",
       " 'cust_9': 'email_9',\n",
       " 'cust_10': 'email_10'}"
      ]
     },
     "execution_count": 53,
     "metadata": {},
     "output_type": "execute_result"
    }
   ],
   "source": [
    "emails"
   ]
  },
  {
   "cell_type": "code",
   "execution_count": 75,
   "id": "dc44e63d",
   "metadata": {
    "scrolled": true
   },
   "outputs": [
    {
     "name": "stdout",
     "output_type": "stream",
     "text": [
      "Customer Details\n",
      "\n",
      "\n",
      "fname_1\n",
      "fname_2\n",
      "fname_3\n",
      "fname_4\n",
      "fname_5\n",
      "fname_6\n",
      "fname_7\n",
      "fname_8\n",
      "fname_9\n",
      "fname_10\n"
     ]
    }
   ],
   "source": [
    "if fnames.keys() == lnames.keys() == emails.keys():\n",
    "    print(\"Customer Details\\n\\n\")\n",
    "    for k in fnames.values():\n",
    "        print(k)#fnames.keys()[i], lnames.keys()[i], emails.keys()[i])"
   ]
  },
  {
   "cell_type": "code",
   "execution_count": 76,
   "id": "b95d86fe",
   "metadata": {},
   "outputs": [],
   "source": [
    "customers = [\n",
    "    { \n",
    "        \"customer id\": 0,\n",
    "        \"first name\":\"John\",\n",
    "        \"last name\": \"Ogden\",\n",
    "        \"address\": \"301 Arbor Rd.\",\n",
    "    },\n",
    "    { \n",
    "        \"customer id\": 1,\n",
    "        \"first name\":\"Ann\",\n",
    "        \"last name\": \"Sattermyer\",\n",
    "        \"address\": \"PO Box 1145\",\n",
    "    },\n",
    "    {\n",
    "        \"customer id\": 2,\n",
    "        \"first name\":\"Jill\",\n",
    "        \"last name\": \"Somers\",\n",
    "        \"address\": \"3 Main St.\",\n",
    "    }\n",
    "]"
   ]
  },
  {
   "cell_type": "code",
   "execution_count": 77,
   "id": "629384b7",
   "metadata": {},
   "outputs": [
    {
     "data": {
      "text/plain": [
       "{'customer id': 1,\n",
       " 'first name': 'Ann',\n",
       " 'last name': 'Sattermyer',\n",
       " 'address': 'PO Box 1145'}"
      ]
     },
     "execution_count": 77,
     "metadata": {},
     "output_type": "execute_result"
    }
   ],
   "source": [
    "customers[1]"
   ]
  },
  {
   "cell_type": "code",
   "execution_count": 79,
   "id": "a5cf5ea1",
   "metadata": {},
   "outputs": [],
   "source": [
    "customer_29876 = {\n",
    "    \"first name\": \"David\",\n",
    "    \"last name\": \"Elliott\",\n",
    "    \"address\": \"4803 Wellesley St.\",\n",
    "    \"discounts\": [\"standard\", \"volume\", \"loyalty\"]\n",
    "}"
   ]
  },
  {
   "cell_type": "code",
   "execution_count": 84,
   "id": "6fcb4d3c",
   "metadata": {},
   "outputs": [
    {
     "name": "stdout",
     "output_type": "stream",
     "text": [
      "Enter the name of a city: Tucson\n",
      "Tucson is one of the cleanest cities\n"
     ]
    }
   ],
   "source": [
    "cleanest_cities = [\"Cheyenne\", \"Santa Fe\", \"Tucson\", \"Great Falls\", \"Honolulu\"]\n",
    "city_to_check = input(\"Enter the name of a city: \")\n",
    "for a_clean_city in Great Fallscleanest_cities:\n",
    "    if city_to_check == a_clean_city:\n",
    "        print(city_to_check,\"is one of the cleanest cities\")\n",
    "        break"
   ]
  },
  {
   "cell_type": "code",
   "execution_count": 89,
   "id": "480251b6",
   "metadata": {},
   "outputs": [
    {
     "name": "stdout",
     "output_type": "stream",
     "text": [
      "Enter a city, or q to quit:Tucson\n",
      "It's one of the cleanest cities\n",
      "Enter a city, or q to quit:Great Falls\n",
      "It's one of the cleanest cities\n",
      "Enter a city, or q to quit:Great Falls\n",
      "It's one of the cleanest cities\n",
      "Enter a city, or q to quit:q\n"
     ]
    }
   ],
   "source": [
    "user_input = \"\"\n",
    "while user_input != \"q\":\n",
    "    user_input = input(\"Enter a city, or q to quit:\")\n",
    "    if user_input != \"q\":\n",
    "        for a_clean_city in cleanest_cities:\n",
    "            if user_input == a_clean_city:\n",
    "                print(\"It's one of the cleanest cities\")\n",
    "                break"
   ]
  },
  {
   "cell_type": "code",
   "execution_count": null,
   "id": "39ada902",
   "metadata": {},
   "outputs": [],
   "source": []
  }
 ],
 "metadata": {
  "kernelspec": {
   "display_name": "Python 3",
   "language": "python",
   "name": "python3"
  },
  "language_info": {
   "codemirror_mode": {
    "name": "ipython",
    "version": 3
   },
   "file_extension": ".py",
   "mimetype": "text/x-python",
   "name": "python",
   "nbconvert_exporter": "python",
   "pygments_lexer": "ipython3",
   "version": "3.8.8"
  }
 },
 "nbformat": 4,
 "nbformat_minor": 5
}
